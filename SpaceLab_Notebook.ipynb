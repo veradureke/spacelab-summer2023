{
  "nbformat": 4,
  "nbformat_minor": 0,
  "metadata": {
    "colab": {
      "provenance": [],
      "gpuType": "T4",
      "authorship_tag": "ABX9TyPtQT08caILP36n6pe5ADrE",
      "include_colab_link": true
    },
    "kernelspec": {
      "name": "python3",
      "display_name": "Python 3"
    },
    "language_info": {
      "name": "python"
    },
    "accelerator": "GPU"
  },
  "cells": [
    {
      "cell_type": "markdown",
      "metadata": {
        "id": "view-in-github",
        "colab_type": "text"
      },
      "source": [
        "<a href=\"https://colab.research.google.com/github/veradureke/spacelab-summer2023/blob/main/SpaceLab_Notebook.ipynb\" target=\"_parent\"><img src=\"https://colab.research.google.com/assets/colab-badge.svg\" alt=\"Open In Colab\"/></a>"
      ]
    },
    {
      "cell_type": "code",
      "source": [
        "from google.colab import drive\n",
        "drive.mount('/content/drive')"
      ],
      "metadata": {
        "colab": {
          "base_uri": "https://localhost:8080/"
        },
        "id": "91DnUCh0e-e_",
        "outputId": "1a01d035-28dc-4bcb-a1a5-d1ea02427e55"
      },
      "execution_count": null,
      "outputs": [
        {
          "output_type": "stream",
          "name": "stdout",
          "text": [
            "Drive already mounted at /content/drive; to attempt to forcibly remount, call drive.mount(\"/content/drive\", force_remount=True).\n"
          ]
        }
      ]
    },
    {
      "cell_type": "code",
      "source": [
        "! apt-get install git\n"
      ],
      "metadata": {
        "colab": {
          "base_uri": "https://localhost:8080/"
        },
        "id": "jU8ypSfHfHaR",
        "outputId": "bab4093f-02d1-4a8b-edec-2b62a1ef81e7"
      },
      "execution_count": null,
      "outputs": [
        {
          "output_type": "stream",
          "name": "stdout",
          "text": [
            "Reading package lists... Done\n",
            "Building dependency tree... Done\n",
            "Reading state information... Done\n",
            "git is already the newest version (1:2.34.1-1ubuntu1.10).\n",
            "0 upgraded, 0 newly installed, 0 to remove and 16 not upgraded.\n"
          ]
        }
      ]
    },
    {
      "cell_type": "code",
      "source": [
        "!git clone https://github.com/spacelabdev/new_world_disco.git"
      ],
      "metadata": {
        "colab": {
          "base_uri": "https://localhost:8080/"
        },
        "id": "No3FtdPgfevV",
        "outputId": "11b3cb8b-8cec-43d4-f599-0b391d256d65"
      },
      "execution_count": 1,
      "outputs": [
        {
          "output_type": "stream",
          "name": "stdout",
          "text": [
            "Cloning into 'new_world_disco'...\n",
            "remote: Enumerating objects: 527, done.\u001b[K\n",
            "remote: Counting objects: 100% (124/124), done.\u001b[K\n",
            "remote: Compressing objects: 100% (93/93), done.\u001b[K\n",
            "remote: Total 527 (delta 69), reused 62 (delta 31), pack-reused 403\u001b[K\n",
            "Receiving objects: 100% (527/527), 36.81 MiB | 32.19 MiB/s, done.\n",
            "Resolving deltas: 100% (311/311), done.\n"
          ]
        }
      ]
    },
    {
      "cell_type": "code",
      "source": [
        "!unzip /content/exonet_inputs.zip"
      ],
      "metadata": {
        "id": "azoMFWxeTf7Z",
        "outputId": "c81798f6-1800-49d5-8ca5-1ae18466725e",
        "colab": {
          "base_uri": "https://localhost:8080/"
        }
      },
      "execution_count": 2,
      "outputs": [
        {
          "output_type": "stream",
          "name": "stdout",
          "text": [
            "Archive:  /content/exonet_inputs.zip\n",
            "  inflating: exonet_inputs/val_info.tar.gz  \n",
            "  inflating: exonet_inputs/test_info.tar.gz  \n",
            "  inflating: exonet_inputs/val_lightcurves.tar.gz  \n",
            "  inflating: exonet_inputs/train_info.zip  \n",
            "  inflating: exonet_inputs/test_lightcurves.tar.gz  \n",
            "  inflating: exonet_inputs/val_centroids.tar.gz  \n",
            "  inflating: exonet_inputs/test_centroids.tar.gz  \n",
            "  inflating: exonet_inputs/train_centroids.tar.gz  \n",
            "  inflating: exonet_inputs/train_lightcurves.tar.gz  \n"
          ]
        }
      ]
    },
    {
      "cell_type": "code",
      "source": [
        "!tar -xvf \"/content/exonet_inputs/test_centroids.tar.gz\" -C \"/content/exonet_inputs\""
      ],
      "metadata": {
        "id": "Wr6nLoNvoGWI"
      },
      "execution_count": null,
      "outputs": []
    },
    {
      "cell_type": "code",
      "source": [
        "!tar -xvf \"/content/exonet_inputs/test_info.tar.gz\" -C \"/content/exonet_inputs\""
      ],
      "metadata": {
        "id": "GStjY8KgoQbq"
      },
      "execution_count": null,
      "outputs": []
    },
    {
      "cell_type": "code",
      "source": [
        "!tar -xvf \"/content/exonet_inputs/test_lightcurves.tar.gz\" -C \"/content/exonet_inputs\""
      ],
      "metadata": {
        "id": "En_3bSz7orr9"
      },
      "execution_count": null,
      "outputs": []
    },
    {
      "cell_type": "code",
      "source": [
        "!tar -xvf \"/content/exonet_inputs/train_centroids.tar.gz\" -C \"/content/exonet_inputs\""
      ],
      "metadata": {
        "id": "iceI5w3BozJF"
      },
      "execution_count": null,
      "outputs": []
    },
    {
      "cell_type": "code",
      "source": [
        "!tar -xvf \"/content/exonet_inputs/train_lightcurves.tar.gz\" -C \"/content/exonet_inputs\""
      ],
      "metadata": {
        "id": "YHhL8exfpimx"
      },
      "execution_count": null,
      "outputs": []
    },
    {
      "cell_type": "code",
      "source": [
        "!unzip /content/exonet_inputs/train_info.zip A\n"
      ],
      "metadata": {
        "id": "wM0KIT9_pxta"
      },
      "execution_count": null,
      "outputs": []
    },
    {
      "cell_type": "code",
      "source": [
        "!tar -xvf \"/content/exonet_inputs/val_centroids.tar.gz\" -C \"/content/exonet_inputs\""
      ],
      "metadata": {
        "id": "XN8zIdILqOPO"
      },
      "execution_count": null,
      "outputs": []
    },
    {
      "cell_type": "code",
      "source": [
        "!tar -xvf \"/content/exonet_inputs/val_lightcurves.tar.gz\" -C \"/content/exonet_inputs\""
      ],
      "metadata": {
        "id": "OH7aTjNcqxqG"
      },
      "execution_count": null,
      "outputs": []
    },
    {
      "cell_type": "code",
      "source": [
        "!tar -xvf \"/content/exonet_inputs/val_centroids.tar.gz\" -C \"/content/exonet_inputs\""
      ],
      "metadata": {
        "id": "tYw7LHtgT0Qn"
      },
      "execution_count": null,
      "outputs": []
    },
    {
      "cell_type": "code",
      "source": [
        "!python /content/new_world_disco/code/exonet.py 16 64 1e-5 '/data/kepler/new' '/data_sata1/ensembling/test'"
      ],
      "metadata": {
        "id": "dtv2whhJVCTv",
        "outputId": "b53edab3-7d4e-4589-9546-cb8bc30c4cee",
        "colab": {
          "base_uri": "https://localhost:8080/"
        }
      },
      "execution_count": 19,
      "outputs": [
        {
          "output_type": "stream",
          "name": "stdout",
          "text": [
            "Exonet.py was created by Dr. Megan Andsdell et al\n",
            "Starting exonet.py\n",
            "\n",
            "TRAINING MODEL...\n",
            "\n",
            "instantiating an ExtranetModel object\n",
            "ExtranetModel object instantiated...\n",
            "Traceback (most recent call last):\n",
            "  File \"/content/new_world_disco/code/exonet.py\", line 477, in <module>\n",
            "    kepler_data_loader = DataLoader(kepler_train_data, batch_size=batch_size, shuffle=True, num_workers=4)\n",
            "  File \"/usr/local/lib/python3.10/dist-packages/torch/utils/data/dataloader.py\", line 351, in __init__\n",
            "    sampler = RandomSampler(dataset, generator=generator)  # type: ignore[arg-type]\n",
            "  File \"/usr/local/lib/python3.10/dist-packages/torch/utils/data/sampler.py\", line 107, in __init__\n",
            "    raise ValueError(\"num_samples should be a positive integer \"\n",
            "ValueError: num_samples should be a positive integer value, but got num_samples=0\n"
          ]
        }
      ]
    }
  ]
}